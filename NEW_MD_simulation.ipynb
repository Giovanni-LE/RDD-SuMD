{
  "nbformat": 4,
  "nbformat_minor": 0,
  "metadata": {
    "colab": {
      "provenance": []
    },
    "kernelspec": {
      "name": "python3",
      "display_name": "Python 3"
    },
    "language_info": {
      "name": "python"
    }
  },
  "cells": [
    {
      "cell_type": "markdown",
      "source": [
        "# IMPORT DELLE LIBRERIE"
      ],
      "metadata": {
        "id": "OJVfN5Qv6pB0"
      }
    },
    {
      "cell_type": "code",
      "source": [
        "import sys\n",
        "import argparse\n",
        "import warnings\n",
        "import os\n",
        "import fileinput\n",
        "import glob\n",
        "import shutil\n",
        "import subprocess\n",
        "import numpy as np\n",
        "import MDAnalysis as mda\n",
        "from MDAnalysis.analysis import distances\n",
        "import matplotlib.pyplot as plt\n",
        "%matplotlib inline"
      ],
      "metadata": {
        "id": "b1odzYUw6yh7"
      },
      "execution_count": null,
      "outputs": []
    },
    {
      "cell_type": "markdown",
      "source": [
        "# **SIMULAZIONE**"
      ],
      "metadata": {
        "id": "E1wX-YSC61_X"
      }
    },
    {
      "cell_type": "code",
      "source": [
        "#titleFunzioni da importare dal file Gromacs_Tools, ma visto che per ora non sappiamo farlo, le definiamo in questo slot\n",
        "\n",
        "%run /content/drive/MyDrive/RDD/Gromacs_Tools.py"
      ],
      "metadata": {
        "id": "iCxO2P0w65r7"
      },
      "execution_count": null,
      "outputs": []
    },
    {
      "cell_type": "code",
      "source": [
        "\n",
        "#lancio grompp\n",
        "def g_grompp(MdpFile, TopolFile, CoordFile, TprFile, IndexFile, maxwarning):\n",
        "  with open('md-sim/grompp.log', 'w') as glog:\n",
        "    process = subprocess.run(['gmx' ,'grompp',\n",
        "                              '-c',CoordFile,\n",
        "                              '-r',CoordFile,\n",
        "                              '-p',TopolFile,\n",
        "                              '-f',MdpFile,\n",
        "                              '-n', IndexFile,\n",
        "                              '-o',TprFile,\n",
        "                              '-maxwarn', maxwarning],stdout=glog,stderr=glog)\n",
        "    #lancio mdrun con o senza gpu\n",
        "def g_mdrun(OutputFile,xtcFile ,TprFile=None,gpu=False,cpi_file=None):\n",
        "  with open('md-sim/g_mdrun.log', 'w') as glog:\n",
        "    if TprFile is None:\n",
        "        print(\"\\n\\n provide a Tpr file\")\n",
        "        return 0\n",
        "\n",
        "    if gpu:\n",
        "        process = subprocess.run(['gmx', 'mdrun','-s',TprFile,\n",
        "                                    '-o',OutputFile,\n",
        "                                    '-x',xtcFile,\n",
        "                                    '-cpi',cpi_file,\n",
        "                                    '-nb', 'gpu'],\n",
        "                                    stdout=glog,\n",
        "                                    stderr=glog)\n",
        "    else:\n",
        "        process = subprocess.run(['gmx', 'mdrun','-s',TprFile,\n",
        "                                '-o',OutputFile,\n",
        "                                '-cpi',cpi_file,\n",
        "                                '-nb', 'cpu'],\n",
        "                                stdout=glog,\n",
        "                                stderr=glog)\n",
        "\n",
        "#lancio editconf\n",
        "def g_editconf(TprFile, PdbFile):\n",
        "  with open('md-sim/editconf.log', 'w') as glog:\n",
        "    process = subprocess.run(['gmx' ,'editconf',\n",
        "                              '-f',TprFile,\n",
        "                              '-o',PdbFile],stdout=glog,stderr=glog)\n"
      ],
      "metadata": {
        "id": "IDt4DAQI7Ep5"
      },
      "execution_count": null,
      "outputs": []
    },
    {
      "cell_type": "code",
      "source": [
        "#Creazione della cartella per il salvataggio dei risultati\n",
        "\n",
        "!mkdir md-sim\n",
        "#mkdir: md-sim: File exists"
      ],
      "metadata": {
        "id": "c01_pKqr7Bt6"
      },
      "execution_count": null,
      "outputs": []
    },
    {
      "cell_type": "code",
      "source": [
        "#@title suMD\n",
        "#Inizializzazione dei parametri\n",
        "\n",
        "m = 0 # threshold of the angular coefficient values of the straight line that interpolates the saved points\n",
        "t_max = 31 # maximum threshold of bankruptcy attempts granted in the preliminary run\n",
        "counter1t = 17 # maximum threshold of failed attempts granted in the SuMD run\n",
        "ct02 = 19 # threshold relating to the times in which the distance between the com is between 0 and 2 Å during the final phase of unsupervised MD\n",
        "ct25 = 19 # threshold relating to the times in which the distance between the com is between 2 and 5 Å during the final phase of unsupervised MD\n",
        "ct59 = 19 # threshold relating to the times in which the distance between the com is between 5 and 9 Å during the final phase of unsupervised MD\n",
        "\n",
        "#Inizializzazione\n",
        "m_pirmo = 0 # value of the angular coefficient of the line which is updated and compared with m each short MD simulation\n",
        "t_step = 1 # counter that is increased by 1 and compared with t_max every time there is a failed step in the preliminary run\n",
        "counter1 = 0 # counter that is incremented by 1 and compared with counter1t every time there is a failed step in the SuMD run\n",
        "c_step = 0 # counters that allow us to determine when a SuMD run step is productive\n",
        "k_step = 0 # counters that allow us to determine when a SuMD run step is productive\n",
        "d_cm_vector = np.zeros(5) # vector in which the distances of the com taken in the 5 steps are entered within each short MD simulation during the SuMD run\n",
        "d_cm_out = 0 # final distance value 𝑑𝑐𝑚 stored at the end of the short MD simulations that occur once supervision is stopped\n",
        "counter02 = 0 # counter that is updated and compared with ct02 every time that 𝑑𝑐𝑚𝑜𝑢𝑡 is between 0 and 2 Å\n",
        "counter25 = 0 # counter that is updated and compared with ct25 every time that 𝑑𝑐𝑚𝑜𝑢𝑡 is between 2 and 5 Å\n",
        "counter59 = 0 # counter that is updated and compared with ct59 every time that 𝑑𝑐𝑚𝑜𝑢𝑡 is between 5 and 9 Å"
      ],
      "metadata": {
        "id": "cLhKw1MA7S5K"
      },
      "execution_count": null,
      "outputs": []
    },
    {
      "cell_type": "code",
      "source": [
        "def Linear_Fitting(PDB,XTC,n,frame_rate): #Funzione per il fitting lineare\n",
        "  \n",
        "  #Check dei file\n",
        "  if os.stat(PDB).st_size == 0: #check PDB file\n",
        "    print('Il file PDB è vuoto')\n",
        "    return\n",
        "  \n",
        "  if os.stat(XTC).st_size == 0: #check XTC file\n",
        "    print('Il file XTC è vuoto')\n",
        "    return\n",
        "\n",
        "  u = mda.Universe(PDB,XTC) #universe creation\n",
        "  #LIG = u.select_atoms('resname LIG')\n",
        "  #print(LIG)\n",
        "  protein = u.select_atoms('resname SER or resname VAL or resname TYR or resname ILE or resname THR or resname GLU or resname LEU or resname ALA or resname GLY or resname ASN or resname CYS or resname TRP or resname GLN or resname PHE or resname ASH or resname PRO or resname CYX or resname HID or resname ARG or resname MET or resname LYS or resname HIE or resname ASP' )\n",
        "  LIG = u.select_atoms('resname LIG')\n",
        "\n",
        "\n",
        "  print(u.trajectory.n_frames)\n",
        "\n",
        "  step = frame_rate/(int(n)-1) #calculate how many steps of the trajectory will be analyzed (used as integer)\n",
        "  #print(step) #debug\n",
        "  d = np.empty(len(u.trajectory[:frame_rate:int(step)]), dtype=float) #distance vector\n",
        "  #print(len(d))\n",
        "\n",
        "  p = 0 #aux variable for vector indexing\n",
        "  print(len(u.trajectory)) ##PROBLEMA E' QUI \n",
        "  \n",
        "  for ts in u.trajectory[:frame_rate:int(step)]: #trajectory analysis cycle\n",
        "    d[p] = float(distances.distance_array(np.array(protein.center_of_mass()),np.array(LIG.center_of_mass())))\n",
        "    p += 1\n",
        "\n",
        "  print(p)\n",
        "  print(ts)  \n",
        "  print(d)\n",
        "  print(len(d))\n",
        "\n",
        "\n",
        "  x = np.linspace(0,600,int(n), dtype=float) #x-axis time reference\n",
        "  m1 = np.polyfit(x,d.astype(np.float32),1) #linear fitting of distance vector\n",
        "\n",
        "  print('\\nVorresti visualizzare anche la curva non fittata? Se si premi 1, altrimenti premi un tasto qualsiasi')\n",
        "  ch = input()\n",
        "  if ch == str(1):\n",
        "    plt.plot(x,d.astype(np.float32), label = \"RAW Distance\") \n",
        "    plt.xlabel('Time(ps)')\n",
        "    plt.ylabel('Distance (Angstrom)')\n",
        "    plt.show\n",
        "\n",
        "  plt.plot(x, m1[0]*x + m1[1], marker='o', label = \"Linear Fitting\") #plotting\n",
        "  plt.xlabel('Time(ps)')\n",
        "  plt.ylabel('Distance (Angstrom)')\n",
        "  plt.show \n",
        "  plt.legend() \n",
        "  return(m1)\n",
        "\n",
        "\n",
        "def Preliminary_run(n): #Funzione per il preliminary run (a partire da NPT)\n",
        "  #Simulazione MD (output: .gro e .trr)\n",
        "  g_grompp('mdp/05-md.mdp', 'PDB/3RFM_LIG/topol/topol.top', 'PDB/3RFM_LIG/03-npt/npt.gro', 'risultati/preliminary.tpr', 'PDB/3RFM_LIG/index.ndx','2')\n",
        "  g_mdrun('risultati/preliminary.trr','risultati/preliminary.xtc',TprFile='risultati/preliminary.tpr',gpu=False,cpi_file='')\n",
        "  #Il cpi_file si utilizza per far riprendere la simulazione mdrun da dove aveva finito (nelle condizioni in cui m<0).\n",
        "  \n",
        "  g_editconf('risultati/preliminary.tpr', 'risultati/npt_nuovo.pdb') # per avere il file pdb\n",
        "\n",
        "  m_primo = Linear_Fitting('risultati/npt_nuovo.pdb','risultati/preliminary.xtc',n,frame_rate=500)\n",
        "  return m_primo"
      ],
      "metadata": {
        "id": "DXZpRGRQ7ipM"
      },
      "execution_count": null,
      "outputs": []
    },
    {
      "cell_type": "code",
      "source": [
        "!mkdir risultati #Cartella per raccolgiere i risultati\n",
        "!mkdir md-sim #Cartella per raccolgiere i log"
      ],
      "metadata": {
        "id": "5T1t93Cj7li-"
      },
      "execution_count": null,
      "outputs": []
    },
    {
      "cell_type": "code",
      "source": [
        "#@title MODIFICA DEL FILE INDICE PER LA CREAZIONE DEL GRUPPO LIG+PROTEIN\n",
        "!gmx make_ndx -f drive/MyDrive/RDD/PDB/3RFM_LIG/04-md/md.gro -n drive/MyDrive/RDD/PDB/3RFM_LIG/index.ndx -o drive/MyDrive/RDD/PDB/3RFM_LIG/index_PROLIG_new.ndx"
      ],
      "metadata": {
        "id": "RdCLRrVY7pRq"
      },
      "execution_count": null,
      "outputs": []
    },
    {
      "cell_type": "code",
      "source": [
        "#@title CREAZIONE DEL FILE .gro\n",
        "!gmx editconf -f drive/MyDrive/RDD/PDB/3RFM_LIG/04-md/md.gro -n drive/MyDrive/RDD/PDB/3RFM_LIG/index_PROLIG_new.ndx -o drive/MyDrive/RDD/PDB/3RFM_LIG/PROLIG_clear.gro"
      ],
      "metadata": {
        "id": "dZWzTruA7whW"
      },
      "execution_count": null,
      "outputs": []
    },
    {
      "cell_type": "code",
      "source": [
        "#@title CREAZIONE DELL' .xtc\n",
        "!gmx trjconv -s drive/MyDrive/RDD/PDB/3RFM_LIG/PROLIG_clear.gro -n drive/MyDrive/RDD/PDB/3RFM_LIG/index_PROLIG_new.ndx -f drive/MyDrive/RDD/PDB/3RFM_LIG/04-md/md.trr -o risultati/md.xtc -dump 0"
      ],
      "metadata": {
        "id": "Jw6uFzNs70Uz"
      },
      "execution_count": null,
      "outputs": []
    },
    {
      "cell_type": "code",
      "source": [
        "!gmx check -f risultati/md.xtc #check frame rate\n"
      ],
      "metadata": {
        "id": "n-Z3y8_673QH"
      },
      "execution_count": null,
      "outputs": []
    },
    {
      "cell_type": "code",
      "source": [
        "#@title PROVA\n",
        "g_editconf('drive/MyDrive/RDD/PDB/3RFM_LIG/PROLIG_clear.gro', 'risultati/md.pdb') # per avere il file pdb\n",
        "m_primo = Linear_Fitting('risultati/md.pdb','risultati/md.xtc',n=5,frame_rate=600)"
      ],
      "metadata": {
        "id": "5yqFRwjY77Cj"
      },
      "execution_count": null,
      "outputs": []
    },
    {
      "cell_type": "markdown",
      "source": [
        "# **Codice per il run completo della suMD**"
      ],
      "metadata": {
        "id": "xYCBoDzP8Ag7"
      }
    },
    {
      "cell_type": "code",
      "source": [
        "#Primo passo da NPT\n",
        "#cpi no all'inizio\n",
        "\n",
        "genius = 0\n",
        "while genius == 0:\n",
        "  print('\\nInserisci numero step (compreso tra 3 e 302)') #step check \n",
        "  n = 5\n",
        "  if int(n)<3:\n",
        "    print('\\nCon meno di tre step il metodo dei minimi quadrati non è applicabile, inserisci un numero più alto')\n",
        "  elif int(n)>302:\n",
        "    print('\\nHai inserito un numero di step maggiore del numero di frame della simulazione\\nOgni step deve durare almeno un frame, inserisci un numero più basso')\n",
        "  else: \n",
        "    genius=1\n",
        "\n",
        "t_step = 0\n",
        "#m_primo = Preliminary_run(n) #simulazione preliminare MD (se m_primo < 0 non si entra nel preliminary run)\n",
        "\n",
        "g_editconf('PDB/3RFM_LIG/04-md/md.tpr', 'risultati/md.pdb') # per avere il file pdb\n",
        "\n",
        "m_primo = Linear_Fitting('risultati/md.pdb','PDB/3RFM_LIG/04-md/md.xtc',n,frame_rate=500)\n",
        "\n",
        "\"\"\"\n",
        "#PRELIMINARY RUN\n",
        "while t_step < t_max and m_primo > 0:\n",
        "  t_step += 1\n",
        "  #Riassegnare velocità mantenendo la geometria\n",
        "  m_primo = Preliminary_run(n)\n",
        "\n",
        "  if m_primo < 0: #Uscita dal preliminary run\n",
        "    break\n",
        "\n",
        "  if t_step > t_max:\n",
        "    t_step = 0\n",
        "    #Riassegnare velocità e geometria\n",
        "\n",
        "  if t_step == 1:\n",
        "    print('OK')\n",
        "    break\n",
        "\n",
        "\n",
        "#suMD\"\"\""
      ],
      "metadata": {
        "id": "LyoXuDcG8Dzy"
      },
      "execution_count": null,
      "outputs": []
    }
  ]
}